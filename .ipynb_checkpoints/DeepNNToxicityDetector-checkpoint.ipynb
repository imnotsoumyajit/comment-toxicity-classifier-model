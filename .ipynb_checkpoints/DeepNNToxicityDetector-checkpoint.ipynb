{
 "cells": [
  {
   "cell_type": "markdown",
   "id": "17815f45-3ba4-4c48-91ea-63c10b85f3d3",
   "metadata": {},
   "source": [
    "csv file : https://www.kaggle.com/competitions/jigsaw-toxic-comment-classification-challenge/data"
   ]
  },
  {
   "cell_type": "markdown",
   "id": "264a8b44-8e91-4e6f-9b4a-73b27c972c6c",
   "metadata": {},
   "source": [
    "## Import deps"
   ]
  },
  {
   "cell_type": "code",
   "execution_count": null,
   "id": "0bdfd1bc-a2fc-4f80-953e-1d5dda8ac220",
   "metadata": {
    "tags": []
   },
   "outputs": [],
   "source": [
    "!pip install tensorflow pandas matplotlib sklearn"
   ]
  },
  {
   "cell_type": "code",
   "execution_count": 1,
   "id": "9910af2f-9f24-4c85-9077-4e55f8b3fd64",
   "metadata": {
    "tags": []
   },
   "outputs": [],
   "source": [
    "import os \n",
    "import pandas as pd \n",
    "import tensorflow as tf\n",
    "import numpy as np"
   ]
  },
  {
   "cell_type": "markdown",
   "id": "4605e780-9750-4393-b629-2d779fa74688",
   "metadata": {},
   "source": [
    "bringing data"
   ]
  },
  {
   "cell_type": "code",
   "execution_count": 2,
   "id": "23088893-3ba9-4569-ae20-464d063ade4b",
   "metadata": {
    "tags": []
   },
   "outputs": [],
   "source": [
    "df=pd.read_csv(\n",
    "                os.path.join('jigsaw-toxic-comment-classification-challenge','train.csv','train.csv')\n",
    "                )"
   ]
  },
  {
   "cell_type": "code",
   "execution_count": null,
   "id": "505022e0-6080-48ac-b560-4975b36eca22",
   "metadata": {
    "tags": []
   },
   "outputs": [],
   "source": [
    "df[df['toxic']==1].head()"
   ]
  },
  {
   "cell_type": "code",
   "execution_count": 15,
   "id": "11665517-8b5e-41ea-9475-d450389fad15",
   "metadata": {
    "collapsed": true,
    "jupyter": {
     "outputs_hidden": true,
     "source_hidden": true
    },
    "tags": []
   },
   "outputs": [
    {
     "data": {
      "text/plain": [
       "'COCKSUCKER BEFORE YOU PISS AROUND ON MY WORK'"
      ]
     },
     "execution_count": 15,
     "metadata": {},
     "output_type": "execute_result"
    }
   ],
   "source": [
    "df.iloc[6]['comment_text']"
   ]
  },
  {
   "cell_type": "markdown",
   "id": "4071cac2-5c99-4404-9ab4-0fd018a62d04",
   "metadata": {},
   "source": [
    "## Preprocess da data "
   ]
  },
  {
   "cell_type": "code",
   "execution_count": 4,
   "id": "ff33d963-92fb-459a-ac09-611e1f1eb129",
   "metadata": {
    "tags": []
   },
   "outputs": [],
   "source": [
    "from tensorflow.keras.layers import TextVectorization #for tokenization"
   ]
  },
  {
   "cell_type": "code",
   "execution_count": 18,
   "id": "db4ed69f-37b7-4134-90c4-a42314b3cb11",
   "metadata": {
    "tags": []
   },
   "outputs": [
    {
     "data": {
      "text/plain": [
       "Index(['id', 'comment_text', 'toxic', 'severe_toxic', 'obscene', 'threat',\n",
       "       'insult', 'identity_hate'],\n",
       "      dtype='object')"
      ]
     },
     "execution_count": 18,
     "metadata": {},
     "output_type": "execute_result"
    }
   ],
   "source": [
    "df.columns"
   ]
  },
  {
   "cell_type": "code",
   "execution_count": 5,
   "id": "9656e1d1-14a8-4038-a4c8-4caaecc1c493",
   "metadata": {
    "tags": []
   },
   "outputs": [],
   "source": [
    "# split data into comments and features\n",
    "x=df['comment_text']\n",
    "y=df[df.columns[2:]].values"
   ]
  },
  {
   "cell_type": "code",
   "execution_count": 6,
   "id": "df76e341-7006-45e5-bd34-86439a6cef3b",
   "metadata": {
    "tags": []
   },
   "outputs": [],
   "source": [
    "MAX_WORDS=200000 #no of words in the vocab"
   ]
  },
  {
   "cell_type": "code",
   "execution_count": 24,
   "id": "b59362cc-1189-402e-aa07-43861e2ab6c1",
   "metadata": {
    "tags": []
   },
   "outputs": [],
   "source": [
    "# init TextVectorization layer\n",
    "vectorizer=TextVectorization(max_tokens=MAX_WORDS,\n",
    "                             output_sequence_length=1800,\n",
    "                             output_mode='int')"
   ]
  },
  {
   "cell_type": "code",
   "execution_count": 24,
   "id": "ebb3f683-9efe-4d6e-ac4a-1d818d70c2c3",
   "metadata": {
    "collapsed": true,
    "jupyter": {
     "outputs_hidden": true,
     "source_hidden": true
    },
    "tags": []
   },
   "outputs": [
    {
     "data": {
      "text/plain": [
       "numpy.ndarray"
      ]
     },
     "execution_count": 24,
     "metadata": {},
     "output_type": "execute_result"
    }
   ],
   "source": [
    "type(x.values)"
   ]
  },
  {
   "cell_type": "code",
   "execution_count": 25,
   "id": "f54a0ad8-1555-483d-81f9-1b5f049eeac2",
   "metadata": {
    "tags": []
   },
   "outputs": [],
   "source": [
    "# teach the verctorizer our vocab\n",
    "vectorizer.adapt(x.values)"
   ]
  },
  {
   "cell_type": "code",
   "execution_count": 27,
   "id": "7ec03b8e-ac45-4000-b6ec-e86767baecfe",
   "metadata": {
    "collapsed": true,
    "jupyter": {
     "outputs_hidden": true,
     "source_hidden": true
    },
    "tags": []
   },
   "outputs": [
    {
     "data": {
      "text/plain": [
       "<tf.Tensor: shape=(1800,), dtype=int64, numpy=array([14,  9,  6, ...,  0,  0,  0], dtype=int64)>"
      ]
     },
     "execution_count": 27,
     "metadata": {},
     "output_type": "execute_result"
    }
   ],
   "source": [
    "verctorizer('This is a sentence') #we do this for all sentences"
   ]
  },
  {
   "cell_type": "code",
   "execution_count": 9,
   "id": "f50812ee-6115-4864-8016-349d0f8d52fc",
   "metadata": {
    "tags": []
   },
   "outputs": [],
   "source": [
    "vectorized_text=verctorizer(x.values)"
   ]
  },
  {
   "cell_type": "code",
   "execution_count": 29,
   "id": "1dea5e91-afa8-4b6d-9f3b-4d82e826969b",
   "metadata": {
    "collapsed": true,
    "jupyter": {
     "outputs_hidden": true,
     "source_hidden": true
    },
    "tags": []
   },
   "outputs": [
    {
     "data": {
      "text/plain": [
       "<tf.Tensor: shape=(159571, 1800), dtype=int64, numpy=\n",
       "array([[  645,    76,     2, ...,     0,     0,     0],\n",
       "       [    1,    54,  2489, ...,     0,     0,     0],\n",
       "       [  425,   441,    70, ...,     0,     0,     0],\n",
       "       ...,\n",
       "       [32445,  7392,   383, ...,     0,     0,     0],\n",
       "       [    5,    12,   534, ...,     0,     0,     0],\n",
       "       [    5,     8,   130, ...,     0,     0,     0]], dtype=int64)>"
      ]
     },
     "execution_count": 29,
     "metadata": {},
     "output_type": "execute_result"
    }
   ],
   "source": [
    "vectorized_text\n",
    "# the rest of the sentences are 0s if they are incomplete"
   ]
  },
  {
   "cell_type": "code",
   "execution_count": 30,
   "id": "43486a93-eb4e-41ec-bff0-fa4a66d33593",
   "metadata": {
    "collapsed": true,
    "jupyter": {
     "outputs_hidden": true,
     "source_hidden": true
    },
    "tags": []
   },
   "outputs": [
    {
     "data": {
      "text/plain": [
       "159571"
      ]
     },
     "execution_count": 30,
     "metadata": {},
     "output_type": "execute_result"
    }
   ],
   "source": [
    "len(x) #same length"
   ]
  },
  {
   "cell_type": "code",
   "execution_count": 11,
   "id": "f526a1d0-9707-4401-93e7-fd57b361fc7a",
   "metadata": {
    "tags": []
   },
   "outputs": [],
   "source": [
    "# creating tf pipeline\n",
    "dataset=tf.data.Dataset.from_tensor_slices((vectorized_text,y)) # map\n",
    "dataset=dataset.cache()                                         \n",
    "dataset=dataset.shuffle(160000)\n",
    "dataset=dataset.batch(16)\n",
    "dataset=dataset.prefetch(8)  #bottleneck prevention"
   ]
  },
  {
   "cell_type": "code",
   "execution_count": 12,
   "id": "c667df3b-618d-4cb8-be6d-fd5e3670dc95",
   "metadata": {
    "tags": []
   },
   "outputs": [],
   "source": [
    "# getting one bacth and unpack it\n",
    "# ie: dataset creation\n",
    "batch_x,batch_y=dataset.as_numpy_iterator().next()"
   ]
  },
  {
   "cell_type": "code",
   "execution_count": 13,
   "id": "83873b0f-0622-421a-ad71-2b4b10abf365",
   "metadata": {
    "tags": []
   },
   "outputs": [],
   "source": [
    "# creating partitions\n",
    "train=dataset.take(int(len(dataset)*.7)) # we will use 70% of our dataset\n",
    "val=dataset.skip(int(len(dataset)*.7)).take(int(len(dataset)*.2)) #20\n",
    "test=dataset.skip(int(len(dataset)*.9)).take(int(len(dataset)*.1)) #10"
   ]
  },
  {
   "cell_type": "code",
   "execution_count": 14,
   "id": "46da709d-d2a0-421e-9b28-578d4630fe49",
   "metadata": {
    "tags": []
   },
   "outputs": [],
   "source": [
    "train_generator=train.as_numpy_iterator()"
   ]
  },
  {
   "cell_type": "code",
   "execution_count": null,
   "id": "1ad3a0ef-d2f7-44b3-a281-6d26045f8e40",
   "metadata": {
    "tags": []
   },
   "outputs": [],
   "source": [
    "train_generator.next()"
   ]
  },
  {
   "cell_type": "markdown",
   "id": "8e42d6a0-d647-43a3-acca-f8608f52e0bb",
   "metadata": {},
   "source": [
    "## Make the seq model"
   ]
  },
  {
   "cell_type": "code",
   "execution_count": 15,
   "id": "6a39caba-0784-472f-be97-2e68d168f7c0",
   "metadata": {
    "tags": []
   },
   "outputs": [],
   "source": [
    "from tensorflow.keras.models import Sequential\n",
    "from tensorflow.keras.layers import LSTM,Dropout,Bidirectional,Embedding,Dense"
   ]
  },
  {
   "cell_type": "code",
   "execution_count": 16,
   "id": "79d0aa8b-e2f6-4e98-b81f-c77ffa82b6d7",
   "metadata": {
    "tags": []
   },
   "outputs": [],
   "source": [
    "# our NN will learn in this embedding\n",
    "model=Sequential()\n",
    "model.add(Embedding(MAX_WORDS+1,32)) #creating embed layer\n",
    "model.add(Bidirectional(LSTM(32,activation='tanh'))) #tanh: for gpu acc, alse for like : \"I dont hate you\" type sentences - pass info both ways\n",
    "model.add(Dense(128,activation='relu'))  # feature extractor\n",
    "model.add(Dense(256,activation='relu'))  # feature extractor\n",
    "model.add(Dense(128,activation='relu'))  # feature extractor\n",
    "model.add(Dense(6,activation='sigmoid')) # val betn 0 & 1 only"
   ]
  },
  {
   "cell_type": "code",
   "execution_count": 17,
   "id": "4252aae6-5326-4b7e-8c3f-f2a5742b94da",
   "metadata": {
    "tags": []
   },
   "outputs": [],
   "source": [
    "model.compile(loss='BinaryCrossentropy',optimizer='Adam') #as the com can be 0 and 1 , not multi class"
   ]
  },
  {
   "cell_type": "code",
   "execution_count": null,
   "id": "e3b91c68-f6b2-4f01-b514-f2f53582074c",
   "metadata": {
    "tags": []
   },
   "outputs": [],
   "source": [
    "model.summary()"
   ]
  },
  {
   "cell_type": "code",
   "execution_count": 20,
   "id": "63beec46-cea0-4266-a244-c370842bf5a7",
   "metadata": {
    "tags": []
   },
   "outputs": [
    {
     "name": "stdout",
     "output_type": "stream",
     "text": [
      "6981/6981 [==============================] - 6385s 915ms/step - loss: 0.0508 - val_loss: 0.0419\n"
     ]
    }
   ],
   "source": [
    "# train the model for 4 or 5 or 10 epochs\n",
    "history=model.fit(train,epochs=4,validation_data=val)"
   ]
  },
  {
   "cell_type": "code",
   "execution_count": 21,
   "id": "49840bb3-e8c8-4772-806b-5861398e855e",
   "metadata": {
    "tags": []
   },
   "outputs": [],
   "source": [
    "from matplotlib import pyplot as plt  "
   ]
  },
  {
   "cell_type": "code",
   "execution_count": null,
   "id": "2d1540a0-d29a-4ca1-877e-e193b6fae3b4",
   "metadata": {
    "tags": []
   },
   "outputs": [],
   "source": [
    "plt.figure(figsize=(8,5))\n",
    "pd.DataFrame(history.history).plot()\n",
    "plt.show"
   ]
  },
  {
   "cell_type": "code",
   "execution_count": null,
   "id": "3a9253fc-17a1-45d1-8fd5-bb7231a7153f",
   "metadata": {},
   "outputs": [],
   "source": []
  },
  {
   "cell_type": "markdown",
   "id": "934f6269-cd21-467e-9700-b9695df0accd",
   "metadata": {},
   "source": [
    "## Make our predictions"
   ]
  },
  {
   "cell_type": "code",
   "execution_count": 27,
   "id": "051b87d7-c355-47ac-9faf-f520dc2fbbd7",
   "metadata": {
    "tags": []
   },
   "outputs": [],
   "source": [
    "batch=test.as_numpy_iterator().next()"
   ]
  },
  {
   "cell_type": "code",
   "execution_count": 43,
   "id": "fefecc38-3773-4543-8076-52e90391e026",
   "metadata": {
    "tags": []
   },
   "outputs": [],
   "source": [
    "batch_x,batch_y=test.as_numpy_iterator().next()"
   ]
  },
  {
   "cell_type": "code",
   "execution_count": 48,
   "id": "92c55a1f-873d-4269-b995-469acfb751ca",
   "metadata": {
    "tags": []
   },
   "outputs": [],
   "source": [
    "# before prediction , tokemnize the data \n",
    "# Example\n",
    "input_text=vectorizer('I love you ! I am here for you')"
   ]
  },
  {
   "cell_type": "code",
   "execution_count": 38,
   "id": "b2077df4-bdba-41a8-8863-612b808a97ee",
   "metadata": {
    "collapsed": true,
    "jupyter": {
     "outputs_hidden": true,
     "source_hidden": true
    },
    "tags": []
   },
   "outputs": [
    {
     "data": {
      "text/plain": [
       "Index(['toxic', 'severe_toxic', 'obscene', 'threat', 'insult',\n",
       "       'identity_hate'],\n",
       "      dtype='object')"
      ]
     },
     "execution_count": 38,
     "metadata": {},
     "output_type": "execute_result"
    }
   ],
   "source": [
    "df.columns[2:]"
   ]
  },
  {
   "cell_type": "code",
   "execution_count": 40,
   "id": "dea49268-5d83-43c8-8415-659284688ca6",
   "metadata": {
    "collapsed": true,
    "jupyter": {
     "outputs_hidden": true,
     "source_hidden": true
    },
    "tags": []
   },
   "outputs": [
    {
     "name": "stdout",
     "output_type": "stream",
     "text": [
      "1/1 [==============================] - 0s 53ms/step\n"
     ]
    },
    {
     "data": {
      "text/plain": [
       "array([[3.2237213e-02, 5.5001405e-05, 1.0287233e-02, 1.5057450e-03,\n",
       "        7.9799844e-03, 5.3781052e-03]], dtype=float32)"
      ]
     },
     "execution_count": 40,
     "metadata": {},
     "output_type": "execute_result"
    }
   ],
   "source": [
    "model.predict(np.expand_dims(input_text,0))\n",
    "# above 0.5(our threshold),it will be considered as true for toxic"
   ]
  },
  {
   "cell_type": "code",
   "execution_count": 42,
   "id": "71dcebee-1507-40c7-b3a7-9e0b141af383",
   "metadata": {
    "collapsed": true,
    "jupyter": {
     "outputs_hidden": true,
     "source_hidden": true
    },
    "tags": []
   },
   "outputs": [
    {
     "name": "stdout",
     "output_type": "stream",
     "text": [
      "1/1 [==============================] - 0s 52ms/step\n"
     ]
    },
    {
     "data": {
      "text/plain": [
       "array([[0.99963063, 0.28665623, 0.9902162 , 0.01043422, 0.8746136 ,\n",
       "        0.18079132]], dtype=float32)"
      ]
     },
     "execution_count": 42,
     "metadata": {},
     "output_type": "execute_result"
    }
   ],
   "source": [
    "model.predict(np.expand_dims(input_text,0))"
   ]
  },
  {
   "cell_type": "code",
   "execution_count": null,
   "id": "f33fe1cb-bcee-4502-b901-723315402975",
   "metadata": {
    "tags": []
   },
   "outputs": [],
   "source": [
    "(model.predict(batch_x) >0.5).astype(int)"
   ]
  },
  {
   "cell_type": "code",
   "execution_count": 29,
   "id": "32c51aa1-7d02-4db1-b75a-17b4cd8fa806",
   "metadata": {
    "tags": []
   },
   "outputs": [
    {
     "name": "stdout",
     "output_type": "stream",
     "text": [
      "1/1 [==============================] - 1s 562ms/step\n"
     ]
    }
   ],
   "source": [
    "res=model.predict(np.expand_dims(input_text,0))"
   ]
  },
  {
   "cell_type": "code",
   "execution_count": null,
   "id": "56a860a2-767d-4ef9-85df-b7c6efb39c46",
   "metadata": {},
   "outputs": [],
   "source": []
  },
  {
   "cell_type": "markdown",
   "id": "56a9f0ae-2d77-434e-a8e2-b731cb8e4855",
   "metadata": {},
   "source": [
    "## Evaluating the model"
   ]
  },
  {
   "cell_type": "code",
   "execution_count": 50,
   "id": "413a0341-0db3-473f-be16-60782ed612fe",
   "metadata": {
    "tags": []
   },
   "outputs": [],
   "source": [
    "from tensorflow.keras.metrics import Precision,Recall,CategoricalAccuracy"
   ]
  },
  {
   "cell_type": "code",
   "execution_count": 51,
   "id": "f78cce95-5b33-496e-b783-0114689421c3",
   "metadata": {
    "tags": []
   },
   "outputs": [],
   "source": [
    "pre=Precision()\n",
    "re=Recall()\n",
    "acc=CategoricalAccuracy()"
   ]
  },
  {
   "cell_type": "code",
   "execution_count": null,
   "id": "165d83ff-5702-43f8-8ddd-99ca7c67068c",
   "metadata": {
    "scrolled": true,
    "tags": []
   },
   "outputs": [],
   "source": [
    "# make our predictions\n",
    "for batch in test.as_numpy_iterator():\n",
    "#     unpack the batch\n",
    "    x_true,y_true=batch\n",
    "#     predict\n",
    "    yhat=model.predict(x_true)\n",
    "    \n",
    "    y_true=y_true.flatten()\n",
    "    yhat=yhat.flatten()\n",
    "    \n",
    "    pre.update_state(y_true,yhat)\n",
    "    re.update_state(y_true,yhat)\n",
    "    acc.update_state(y_true,yhat)"
   ]
  },
  {
   "cell_type": "code",
   "execution_count": 53,
   "id": "1fcf2121-d386-498f-9724-06abc871f0d7",
   "metadata": {
    "tags": []
   },
   "outputs": [
    {
     "name": "stdout",
     "output_type": "stream",
     "text": [
      "Precision: 0.834931492805481, Recall: 0.6829131841659546, Accuracy: 0.5035105347633362\n"
     ]
    }
   ],
   "source": [
    "# viz the results\n",
    "print(f'Precision: {pre.result().numpy()}, Recall: {re.result().numpy()}, Accuracy: {acc.result().numpy()}')"
   ]
  },
  {
   "cell_type": "code",
   "execution_count": 60,
   "id": "bfd67d41-f0a1-4342-b5c9-380351cc4b1b",
   "metadata": {
    "tags": []
   },
   "outputs": [],
   "source": [
    "# save the model\n",
    "model.save('toxic.h5')"
   ]
  },
  {
   "cell_type": "code",
   "execution_count": 61,
   "id": "c8cdce67-3430-4359-8212-cdd128dac784",
   "metadata": {
    "tags": []
   },
   "outputs": [],
   "source": [
    "# load our tf model\n",
    "model=tf.keras.models.load_model('toxic.h5')"
   ]
  },
  {
   "cell_type": "code",
   "execution_count": null,
   "id": "ac514463-d3d3-419a-b13f-72ff089c5ba5",
   "metadata": {},
   "outputs": [],
   "source": []
  },
  {
   "cell_type": "markdown",
   "id": "37a19ec7-ad96-4bb4-bc6c-2a07ec355830",
   "metadata": {},
   "source": [
    "## Test and integrating gradio\n",
    "link :https://gradio.app/quickstart/"
   ]
  },
  {
   "cell_type": "code",
   "execution_count": 55,
   "id": "47e24ff5-d03d-4300-8d00-9aeea8c11d12",
   "metadata": {
    "tags": []
   },
   "outputs": [],
   "source": [
    "import gradio as gr"
   ]
  },
  {
   "cell_type": "code",
   "execution_count": 62,
   "id": "7ea66a6d-6bc3-4283-b789-2778e5e83c0f",
   "metadata": {
    "tags": []
   },
   "outputs": [],
   "source": [
    "# load \n",
    "model=tf.keras.models.load_model('toxic.h5')"
   ]
  },
  {
   "cell_type": "code",
   "execution_count": 83,
   "id": "c4c7d63b-78f9-498e-9986-81ce676742af",
   "metadata": {
    "tags": []
   },
   "outputs": [],
   "source": [
    "# test da model\n",
    "input_str=vectorizer('I love you')"
   ]
  },
  {
   "cell_type": "code",
   "execution_count": 84,
   "id": "189acb3a-8ae2-44d8-918b-127cd1f0a403",
   "metadata": {
    "tags": []
   },
   "outputs": [
    {
     "name": "stdout",
     "output_type": "stream",
     "text": [
      "1/1 [==============================] - 0s 54ms/step\n"
     ]
    }
   ],
   "source": [
    "res=model.predict(np.expand_dims(input_str,0))"
   ]
  },
  {
   "cell_type": "code",
   "execution_count": 80,
   "id": "6df1bb58-5a4c-43cc-be68-476008822ef0",
   "metadata": {
    "tags": []
   },
   "outputs": [
    {
     "data": {
      "text/plain": [
       "Index(['toxic', 'severe_toxic', 'obscene', 'threat', 'insult',\n",
       "       'identity_hate'],\n",
       "      dtype='object')"
      ]
     },
     "execution_count": 80,
     "metadata": {},
     "output_type": "execute_result"
    }
   ],
   "source": [
    "df.columns[2:]"
   ]
  },
  {
   "cell_type": "code",
   "execution_count": 85,
   "id": "7028e7f9-967d-487c-8529-346684f9e75f",
   "metadata": {
    "tags": []
   },
   "outputs": [
    {
     "data": {
      "text/plain": [
       "array([[False, False, False, False, False, False]])"
      ]
     },
     "execution_count": 85,
     "metadata": {},
     "output_type": "execute_result"
    }
   ],
   "source": [
    "res>0.5"
   ]
  },
  {
   "cell_type": "code",
   "execution_count": 86,
   "id": "2a3f7856-142a-4c08-ba8c-8ea0f082881f",
   "metadata": {},
   "outputs": [
    {
     "data": {
      "text/plain": [
       "array([[3.4730654e-02, 5.0042068e-05, 9.9567510e-03, 1.3755542e-03,\n",
       "        7.8176940e-03, 4.9933069e-03]], dtype=float32)"
      ]
     },
     "execution_count": 86,
     "metadata": {},
     "output_type": "execute_result"
    }
   ],
   "source": [
    "res"
   ]
  },
  {
   "cell_type": "code",
   "execution_count": 88,
   "id": "ddb62e00-7cc8-420c-937f-b281fa6b40de",
   "metadata": {
    "tags": []
   },
   "outputs": [],
   "source": [
    "# a reusable function for the gradio model\n",
    "def score_comment(comment):\n",
    "    vectorized_comment=verctorizer([comment])\n",
    "    results=model.predict(vectorized_comment)\n",
    "    \n",
    "    text=''\n",
    "    for i,col in enumerate(df.columns[2:]):\n",
    "        text+='{}:{}\\n'.format(col,results[0][i]>0.5)\n",
    "        \n",
    "    return text"
   ]
  },
  {
   "cell_type": "code",
   "execution_count": 91,
   "id": "546973bb-83a0-44d6-bd48-7b1c1c181a41",
   "metadata": {
    "tags": []
   },
   "outputs": [],
   "source": [
    "interface=gr.Interface(fn=score_comment,\n",
    "                      inputs=gr.inputs.Textbox(lines=2,placeholder='Chechk if you are toxic'),\n",
    "                    outputs='text')"
   ]
  },
  {
   "cell_type": "code",
   "execution_count": null,
   "id": "01ac545c-8037-41cf-8ca7-69db3253e2cb",
   "metadata": {
    "tags": []
   },
   "outputs": [],
   "source": [
    "interface.launch(share=True)"
   ]
  },
  {
   "cell_type": "code",
   "execution_count": null,
   "id": "b712d5bd-34b8-43a6-87f7-4ef8bfafe727",
   "metadata": {},
   "outputs": [],
   "source": []
  },
  {
   "cell_type": "code",
   "execution_count": null,
   "id": "cf61f800-ac1c-4121-a65a-fb5a0ae52a0f",
   "metadata": {},
   "outputs": [],
   "source": []
  }
 ],
 "metadata": {
  "kernelspec": {
   "display_name": "Python 3 (ipykernel)",
   "language": "python",
   "name": "python3"
  },
  "language_info": {
   "codemirror_mode": {
    "name": "ipython",
    "version": 3
   },
   "file_extension": ".py",
   "mimetype": "text/x-python",
   "name": "python",
   "nbconvert_exporter": "python",
   "pygments_lexer": "ipython3",
   "version": "3.10.10"
  }
 },
 "nbformat": 4,
 "nbformat_minor": 5
}
