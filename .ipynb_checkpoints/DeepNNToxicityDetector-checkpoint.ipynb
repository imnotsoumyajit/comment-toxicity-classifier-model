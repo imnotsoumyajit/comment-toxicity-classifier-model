{
 "cells": [
  {
   "cell_type": "markdown",
   "id": "17815f45-3ba4-4c48-91ea-63c10b85f3d3",
   "metadata": {},
   "source": [
    "csv file : https://www.kaggle.com/competitions/jigsaw-toxic-comment-classification-challenge/data"
   ]
  },
  {
   "cell_type": "markdown",
   "id": "264a8b44-8e91-4e6f-9b4a-73b27c972c6c",
   "metadata": {},
   "source": [
    "## Import deps"
   ]
  },
  {
   "cell_type": "code",
   "execution_count": null,
   "id": "0bdfd1bc-a2fc-4f80-953e-1d5dda8ac220",
   "metadata": {
    "tags": []
   },
   "outputs": [],
   "source": [
    "!pip install tensorflow pandas matplotlib sklearn"
   ]
  },
  {
   "cell_type": "code",
   "execution_count": 1,
   "id": "9910af2f-9f24-4c85-9077-4e55f8b3fd64",
   "metadata": {
    "tags": []
   },
   "outputs": [],
   "source": [
    "import os \n",
    "import pandas as pd \n",
    "import tensorflow as tf\n",
    "import numpy as np"
   ]
  },
  {
   "cell_type": "markdown",
   "id": "4605e780-9750-4393-b629-2d779fa74688",
   "metadata": {},
   "source": [
    "bringing data"
   ]
  },
  {
   "cell_type": "code",
   "execution_count": 2,
   "id": "23088893-3ba9-4569-ae20-464d063ade4b",
   "metadata": {
    "tags": []
   },
   "outputs": [],
   "source": [
    "df=pd.read_csv(\n",
    "                os.path.join('jigsaw-toxic-comment-classification-challenge','train.csv','train.csv')\n",
    "                )"
   ]
  },
  {
   "cell_type": "code",
   "execution_count": 3,
   "id": "505022e0-6080-48ac-b560-4975b36eca22",
   "metadata": {
    "tags": []
   },
   "outputs": [
    {
     "data": {
      "text/html": [
       "<div>\n",
       "<style scoped>\n",
       "    .dataframe tbody tr th:only-of-type {\n",
       "        vertical-align: middle;\n",
       "    }\n",
       "\n",
       "    .dataframe tbody tr th {\n",
       "        vertical-align: top;\n",
       "    }\n",
       "\n",
       "    .dataframe thead th {\n",
       "        text-align: right;\n",
       "    }\n",
       "</style>\n",
       "<table border=\"1\" class=\"dataframe\">\n",
       "  <thead>\n",
       "    <tr style=\"text-align: right;\">\n",
       "      <th></th>\n",
       "      <th>id</th>\n",
       "      <th>comment_text</th>\n",
       "      <th>toxic</th>\n",
       "      <th>severe_toxic</th>\n",
       "      <th>obscene</th>\n",
       "      <th>threat</th>\n",
       "      <th>insult</th>\n",
       "      <th>identity_hate</th>\n",
       "    </tr>\n",
       "  </thead>\n",
       "  <tbody>\n",
       "    <tr>\n",
       "      <th>6</th>\n",
       "      <td>0002bcb3da6cb337</td>\n",
       "      <td>COCKSUCKER BEFORE YOU PISS AROUND ON MY WORK</td>\n",
       "      <td>1</td>\n",
       "      <td>1</td>\n",
       "      <td>1</td>\n",
       "      <td>0</td>\n",
       "      <td>1</td>\n",
       "      <td>0</td>\n",
       "    </tr>\n",
       "    <tr>\n",
       "      <th>12</th>\n",
       "      <td>0005c987bdfc9d4b</td>\n",
       "      <td>Hey... what is it..\\n@ | talk .\\nWhat is it......</td>\n",
       "      <td>1</td>\n",
       "      <td>0</td>\n",
       "      <td>0</td>\n",
       "      <td>0</td>\n",
       "      <td>0</td>\n",
       "      <td>0</td>\n",
       "    </tr>\n",
       "    <tr>\n",
       "      <th>16</th>\n",
       "      <td>0007e25b2121310b</td>\n",
       "      <td>Bye! \\n\\nDon't look, come or think of comming ...</td>\n",
       "      <td>1</td>\n",
       "      <td>0</td>\n",
       "      <td>0</td>\n",
       "      <td>0</td>\n",
       "      <td>0</td>\n",
       "      <td>0</td>\n",
       "    </tr>\n",
       "    <tr>\n",
       "      <th>42</th>\n",
       "      <td>001810bf8c45bf5f</td>\n",
       "      <td>You are gay or antisemmitian? \\n\\nArchangel WH...</td>\n",
       "      <td>1</td>\n",
       "      <td>0</td>\n",
       "      <td>1</td>\n",
       "      <td>0</td>\n",
       "      <td>1</td>\n",
       "      <td>1</td>\n",
       "    </tr>\n",
       "    <tr>\n",
       "      <th>43</th>\n",
       "      <td>00190820581d90ce</td>\n",
       "      <td>FUCK YOUR FILTHY MOTHER IN THE ASS, DRY!</td>\n",
       "      <td>1</td>\n",
       "      <td>0</td>\n",
       "      <td>1</td>\n",
       "      <td>0</td>\n",
       "      <td>1</td>\n",
       "      <td>0</td>\n",
       "    </tr>\n",
       "  </tbody>\n",
       "</table>\n",
       "</div>"
      ],
      "text/plain": [
       "                  id                                       comment_text  \\\n",
       "6   0002bcb3da6cb337       COCKSUCKER BEFORE YOU PISS AROUND ON MY WORK   \n",
       "12  0005c987bdfc9d4b  Hey... what is it..\\n@ | talk .\\nWhat is it......   \n",
       "16  0007e25b2121310b  Bye! \\n\\nDon't look, come or think of comming ...   \n",
       "42  001810bf8c45bf5f  You are gay or antisemmitian? \\n\\nArchangel WH...   \n",
       "43  00190820581d90ce           FUCK YOUR FILTHY MOTHER IN THE ASS, DRY!   \n",
       "\n",
       "    toxic  severe_toxic  obscene  threat  insult  identity_hate  \n",
       "6       1             1        1       0       1              0  \n",
       "12      1             0        0       0       0              0  \n",
       "16      1             0        0       0       0              0  \n",
       "42      1             0        1       0       1              1  \n",
       "43      1             0        1       0       1              0  "
      ]
     },
     "execution_count": 3,
     "metadata": {},
     "output_type": "execute_result"
    }
   ],
   "source": [
    "df[df['toxic']==1].head()"
   ]
  },
  {
   "cell_type": "code",
   "execution_count": 15,
   "id": "11665517-8b5e-41ea-9475-d450389fad15",
   "metadata": {
    "collapsed": true,
    "jupyter": {
     "outputs_hidden": true,
     "source_hidden": true
    },
    "tags": []
   },
   "outputs": [
    {
     "data": {
      "text/plain": [
       "'COCKSUCKER BEFORE YOU PISS AROUND ON MY WORK'"
      ]
     },
     "execution_count": 15,
     "metadata": {},
     "output_type": "execute_result"
    }
   ],
   "source": [
    "df.iloc[6]['comment_text']"
   ]
  },
  {
   "cell_type": "markdown",
   "id": "4071cac2-5c99-4404-9ab4-0fd018a62d04",
   "metadata": {},
   "source": [
    "## Preprocess da data "
   ]
  },
  {
   "cell_type": "code",
   "execution_count": 4,
   "id": "ff33d963-92fb-459a-ac09-611e1f1eb129",
   "metadata": {
    "tags": []
   },
   "outputs": [],
   "source": [
    "from tensorflow.keras.layers import TextVectorization #for tokenization"
   ]
  },
  {
   "cell_type": "code",
   "execution_count": 18,
   "id": "db4ed69f-37b7-4134-90c4-a42314b3cb11",
   "metadata": {
    "tags": []
   },
   "outputs": [
    {
     "data": {
      "text/plain": [
       "Index(['id', 'comment_text', 'toxic', 'severe_toxic', 'obscene', 'threat',\n",
       "       'insult', 'identity_hate'],\n",
       "      dtype='object')"
      ]
     },
     "execution_count": 18,
     "metadata": {},
     "output_type": "execute_result"
    }
   ],
   "source": [
    "df.columns"
   ]
  },
  {
   "cell_type": "code",
   "execution_count": 5,
   "id": "9656e1d1-14a8-4038-a4c8-4caaecc1c493",
   "metadata": {
    "tags": []
   },
   "outputs": [],
   "source": [
    "# split data into comments and features\n",
    "x=df['comment_text']\n",
    "y=df[df.columns[2:]].values"
   ]
  },
  {
   "cell_type": "code",
   "execution_count": 6,
   "id": "df76e341-7006-45e5-bd34-86439a6cef3b",
   "metadata": {
    "tags": []
   },
   "outputs": [],
   "source": [
    "MAX_WORDS=200000 #no of words in the vocab"
   ]
  },
  {
   "cell_type": "code",
   "execution_count": 7,
   "id": "b59362cc-1189-402e-aa07-43861e2ab6c1",
   "metadata": {
    "tags": []
   },
   "outputs": [],
   "source": [
    "# init TextVectorization layer\n",
    "verctorizer=TextVectorization(max_tokens=MAX_WORDS,\n",
    "                             output_sequence_length=1800,\n",
    "                             output_mode='int')"
   ]
  },
  {
   "cell_type": "code",
   "execution_count": 24,
   "id": "ebb3f683-9efe-4d6e-ac4a-1d818d70c2c3",
   "metadata": {
    "collapsed": true,
    "jupyter": {
     "outputs_hidden": true,
     "source_hidden": true
    },
    "tags": []
   },
   "outputs": [
    {
     "data": {
      "text/plain": [
       "numpy.ndarray"
      ]
     },
     "execution_count": 24,
     "metadata": {},
     "output_type": "execute_result"
    }
   ],
   "source": [
    "type(x.values)"
   ]
  },
  {
   "cell_type": "code",
   "execution_count": 8,
   "id": "f54a0ad8-1555-483d-81f9-1b5f049eeac2",
   "metadata": {
    "tags": []
   },
   "outputs": [],
   "source": [
    "# teach the verctorizer our vocab\n",
    "verctorizer.adapt(x.values)"
   ]
  },
  {
   "cell_type": "code",
   "execution_count": 27,
   "id": "7ec03b8e-ac45-4000-b6ec-e86767baecfe",
   "metadata": {
    "collapsed": true,
    "jupyter": {
     "outputs_hidden": true,
     "source_hidden": true
    },
    "tags": []
   },
   "outputs": [
    {
     "data": {
      "text/plain": [
       "<tf.Tensor: shape=(1800,), dtype=int64, numpy=array([14,  9,  6, ...,  0,  0,  0], dtype=int64)>"
      ]
     },
     "execution_count": 27,
     "metadata": {},
     "output_type": "execute_result"
    }
   ],
   "source": [
    "verctorizer('This is a sentence') #we do this for all sentences"
   ]
  },
  {
   "cell_type": "code",
   "execution_count": 9,
   "id": "f50812ee-6115-4864-8016-349d0f8d52fc",
   "metadata": {
    "tags": []
   },
   "outputs": [],
   "source": [
    "vectorized_text=verctorizer(x.values)"
   ]
  },
  {
   "cell_type": "code",
   "execution_count": 29,
   "id": "1dea5e91-afa8-4b6d-9f3b-4d82e826969b",
   "metadata": {
    "collapsed": true,
    "jupyter": {
     "outputs_hidden": true,
     "source_hidden": true
    },
    "tags": []
   },
   "outputs": [
    {
     "data": {
      "text/plain": [
       "<tf.Tensor: shape=(159571, 1800), dtype=int64, numpy=\n",
       "array([[  645,    76,     2, ...,     0,     0,     0],\n",
       "       [    1,    54,  2489, ...,     0,     0,     0],\n",
       "       [  425,   441,    70, ...,     0,     0,     0],\n",
       "       ...,\n",
       "       [32445,  7392,   383, ...,     0,     0,     0],\n",
       "       [    5,    12,   534, ...,     0,     0,     0],\n",
       "       [    5,     8,   130, ...,     0,     0,     0]], dtype=int64)>"
      ]
     },
     "execution_count": 29,
     "metadata": {},
     "output_type": "execute_result"
    }
   ],
   "source": [
    "vectorized_text\n",
    "# the rest of the sentences are 0s if they are incomplete"
   ]
  },
  {
   "cell_type": "code",
   "execution_count": 30,
   "id": "43486a93-eb4e-41ec-bff0-fa4a66d33593",
   "metadata": {
    "collapsed": true,
    "jupyter": {
     "outputs_hidden": true,
     "source_hidden": true
    },
    "tags": []
   },
   "outputs": [
    {
     "data": {
      "text/plain": [
       "159571"
      ]
     },
     "execution_count": 30,
     "metadata": {},
     "output_type": "execute_result"
    }
   ],
   "source": [
    "len(x) #same length"
   ]
  },
  {
   "cell_type": "code",
   "execution_count": 11,
   "id": "f526a1d0-9707-4401-93e7-fd57b361fc7a",
   "metadata": {
    "tags": []
   },
   "outputs": [],
   "source": [
    "# creating tf pipeline\n",
    "dataset=tf.data.Dataset.from_tensor_slices((vectorized_text,y)) # map\n",
    "dataset=dataset.cache()                                         \n",
    "dataset=dataset.shuffle(160000)\n",
    "dataset=dataset.batch(16)\n",
    "dataset=dataset.prefetch(8)  #bottleneck prevention"
   ]
  },
  {
   "cell_type": "code",
   "execution_count": 12,
   "id": "c667df3b-618d-4cb8-be6d-fd5e3670dc95",
   "metadata": {
    "tags": []
   },
   "outputs": [],
   "source": [
    "# getting one bacth and unpack it\n",
    "# ie: dataset creation\n",
    "batch_x,batch_y=dataset.as_numpy_iterator().next()"
   ]
  },
  {
   "cell_type": "code",
   "execution_count": 13,
   "id": "83873b0f-0622-421a-ad71-2b4b10abf365",
   "metadata": {
    "tags": []
   },
   "outputs": [],
   "source": [
    "# creating partitions\n",
    "train=dataset.take(int(len(dataset)*.7)) # we will use 70% of our dataset\n",
    "val=dataset.skip(int(len(dataset)*.7)).take(int(len(dataset)*.2)) #20\n",
    "test=dataset.skip(int(len(dataset)*.9)).take(int(len(dataset)*.1)) #10"
   ]
  },
  {
   "cell_type": "code",
   "execution_count": 14,
   "id": "46da709d-d2a0-421e-9b28-578d4630fe49",
   "metadata": {
    "tags": []
   },
   "outputs": [],
   "source": [
    "train_generator=train.as_numpy_iterator()"
   ]
  },
  {
   "cell_type": "code",
   "execution_count": 42,
   "id": "1ad3a0ef-d2f7-44b3-a281-6d26045f8e40",
   "metadata": {
    "collapsed": true,
    "jupyter": {
     "outputs_hidden": true
    },
    "tags": []
   },
   "outputs": [
    {
     "data": {
      "text/plain": [
       "(array([[90692, 82658,   405, ...,     0,     0,     0],\n",
       "        [  312,    12,   102, ...,     0,     0,     0],\n",
       "        [  459,     8,    55, ...,     0,     0,     0],\n",
       "        ...,\n",
       "        [91134,     2,    24, ...,     0,     0,     0],\n",
       "        [97049,  8629,   425, ...,     0,     0,     0],\n",
       "        [  288,     7,   424, ...,     0,     0,     0]], dtype=int64),\n",
       " array([[0, 0, 0, 0, 0, 0],\n",
       "        [0, 0, 0, 0, 0, 0],\n",
       "        [1, 0, 0, 0, 0, 0],\n",
       "        [0, 0, 0, 0, 0, 0],\n",
       "        [0, 0, 0, 0, 0, 0],\n",
       "        [0, 0, 0, 0, 0, 0],\n",
       "        [0, 0, 0, 0, 0, 0],\n",
       "        [0, 0, 0, 0, 0, 0],\n",
       "        [0, 0, 0, 0, 0, 0],\n",
       "        [0, 0, 0, 0, 0, 0],\n",
       "        [1, 0, 0, 0, 0, 0],\n",
       "        [0, 0, 0, 0, 0, 0],\n",
       "        [0, 0, 0, 0, 0, 0],\n",
       "        [0, 0, 0, 0, 0, 0],\n",
       "        [0, 0, 0, 0, 0, 0],\n",
       "        [0, 0, 0, 0, 0, 0]], dtype=int64))"
      ]
     },
     "execution_count": 42,
     "metadata": {},
     "output_type": "execute_result"
    }
   ],
   "source": [
    "train_generator.next()"
   ]
  },
  {
   "cell_type": "markdown",
   "id": "8e42d6a0-d647-43a3-acca-f8608f52e0bb",
   "metadata": {},
   "source": [
    "## Make the seq model"
   ]
  },
  {
   "cell_type": "code",
   "execution_count": 15,
   "id": "6a39caba-0784-472f-be97-2e68d168f7c0",
   "metadata": {
    "tags": []
   },
   "outputs": [],
   "source": [
    "from tensorflow.keras.models import Sequential\n",
    "from tensorflow.keras.layers import LSTM,Dropout,Bidirectional,Embedding,Dense"
   ]
  },
  {
   "cell_type": "code",
   "execution_count": 16,
   "id": "79d0aa8b-e2f6-4e98-b81f-c77ffa82b6d7",
   "metadata": {
    "tags": []
   },
   "outputs": [],
   "source": [
    "# our NN will learn in this embedding\n",
    "model=Sequential()\n",
    "model.add(Embedding(MAX_WORDS+1,32)) #creating embed layer\n",
    "model.add(Bidirectional(LSTM(32,activation='tanh'))) #tanh: for gpu acc, alse for like : \"I dont hate you\" type sentences - pass info both ways\n",
    "model.add(Dense(128,activation='relu'))  # feature extractor\n",
    "model.add(Dense(256,activation='relu'))  # feature extractor\n",
    "model.add(Dense(128,activation='relu'))  # feature extractor\n",
    "model.add(Dense(6,activation='sigmoid')) # val betn 0 & 1 only"
   ]
  },
  {
   "cell_type": "code",
   "execution_count": 17,
   "id": "4252aae6-5326-4b7e-8c3f-f2a5742b94da",
   "metadata": {
    "tags": []
   },
   "outputs": [],
   "source": [
    "model.compile(loss='BinaryCrossentropy',optimizer='Adam') #as the com can be 0 and 1 , not multi class"
   ]
  },
  {
   "cell_type": "code",
   "execution_count": 52,
   "id": "e3b91c68-f6b2-4f01-b514-f2f53582074c",
   "metadata": {
    "tags": []
   },
   "outputs": [
    {
     "name": "stdout",
     "output_type": "stream",
     "text": [
      "Model: \"sequential_3\"\n",
      "_________________________________________________________________\n",
      " Layer (type)                Output Shape              Param #   \n",
      "=================================================================\n",
      " embedding_3 (Embedding)     (None, None, 32)          6400032   \n",
      "                                                                 \n",
      " bidirectional_3 (Bidirectio  (None, 64)               16640     \n",
      " nal)                                                            \n",
      "                                                                 \n",
      " dense_8 (Dense)             (None, 128)               8320      \n",
      "                                                                 \n",
      " dense_9 (Dense)             (None, 256)               33024     \n",
      "                                                                 \n",
      " dense_10 (Dense)            (None, 128)               32896     \n",
      "                                                                 \n",
      " dense_11 (Dense)            (None, 6)                 774       \n",
      "                                                                 \n",
      "=================================================================\n",
      "Total params: 6,491,686\n",
      "Trainable params: 6,491,686\n",
      "Non-trainable params: 0\n",
      "_________________________________________________________________\n"
     ]
    }
   ],
   "source": [
    "model.summary()"
   ]
  },
  {
   "cell_type": "code",
   "execution_count": null,
   "id": "63beec46-cea0-4266-a244-c370842bf5a7",
   "metadata": {
    "tags": []
   },
   "outputs": [
    {
     "name": "stdout",
     "output_type": "stream",
     "text": [
      "6981/6981 [==============================] - ETA: 0s - loss: 0.0508"
     ]
    }
   ],
   "source": [
    "# train the model for 4 or 5 epochs\n",
    "history=model.fit(train,epochs=1,validation_data=val)"
   ]
  },
  {
   "cell_type": "code",
   "execution_count": null,
   "id": "49840bb3-e8c8-4772-806b-5861398e855e",
   "metadata": {
    "tags": []
   },
   "outputs": [],
   "source": [
    "from matplotlib import pyplot as plt  "
   ]
  },
  {
   "cell_type": "code",
   "execution_count": null,
   "id": "2d1540a0-d29a-4ca1-877e-e193b6fae3b4",
   "metadata": {
    "tags": []
   },
   "outputs": [],
   "source": [
    "plt.figure(figsize=(8,5))\n",
    "pd.DataFrame(history.history).plot()\n",
    "plt.show"
   ]
  },
  {
   "cell_type": "code",
   "execution_count": null,
   "id": "2612d823-6db8-402e-a6f1-341465f4e0c3",
   "metadata": {},
   "outputs": [],
   "source": []
  },
  {
   "cell_type": "code",
   "execution_count": null,
   "id": "92c55a1f-873d-4269-b995-469acfb751ca",
   "metadata": {},
   "outputs": [],
   "source": []
  },
  {
   "cell_type": "code",
   "execution_count": null,
   "id": "4a05b3c8-cfa9-4c17-9ce9-d9cb378a92a6",
   "metadata": {},
   "outputs": [],
   "source": []
  },
  {
   "cell_type": "code",
   "execution_count": null,
   "id": "2a3f7856-142a-4c08-ba8c-8ea0f082881f",
   "metadata": {},
   "outputs": [],
   "source": []
  }
 ],
 "metadata": {
  "kernelspec": {
   "display_name": "Python 3 (ipykernel)",
   "language": "python",
   "name": "python3"
  },
  "language_info": {
   "codemirror_mode": {
    "name": "ipython",
    "version": 3
   },
   "file_extension": ".py",
   "mimetype": "text/x-python",
   "name": "python",
   "nbconvert_exporter": "python",
   "pygments_lexer": "ipython3",
   "version": "3.10.10"
  }
 },
 "nbformat": 4,
 "nbformat_minor": 5
}
